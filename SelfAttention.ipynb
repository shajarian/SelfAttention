{
  "nbformat": 4,
  "nbformat_minor": 0,
  "metadata": {
    "colab": {
      "provenance": [],
      "include_colab_link": true
    },
    "kernelspec": {
      "name": "python3",
      "display_name": "Python 3"
    },
    "language_info": {
      "name": "python"
    }
  },
  "cells": [
    {
      "cell_type": "markdown",
      "metadata": {
        "id": "view-in-github",
        "colab_type": "text"
      },
      "source": [
        "<a href=\"https://colab.research.google.com/github/shajarian/SelfAttention/blob/main/SelfAttention.ipynb\" target=\"_parent\"><img src=\"https://colab.research.google.com/assets/colab-badge.svg\" alt=\"Open In Colab\"/></a>"
      ]
    },
    {
      "cell_type": "code",
      "execution_count": null,
      "metadata": {
        "id": "pHa_RfKaSB4G"
      },
      "outputs": [],
      "source": [
        "import torch"
      ]
    },
    {
      "cell_type": "code",
      "source": [
        "x = [\n",
        "...   [1, 0, 1, 0], # Input 1\n",
        "...   [0, 2, 0, 2], # Input 2\n",
        "...   [1, 1, 1, 1], # Input 3\n",
        "... ]"
      ],
      "metadata": {
        "id": "wBNEfWQ3SSdD"
      },
      "execution_count": null,
      "outputs": []
    },
    {
      "cell_type": "code",
      "source": [
        "x = torch.tensor(x, dtype=torch.float32)"
      ],
      "metadata": {
        "id": "PM_0aNZvSdtZ"
      },
      "execution_count": null,
      "outputs": []
    },
    {
      "cell_type": "code",
      "source": [
        "print(x)"
      ],
      "metadata": {
        "colab": {
          "base_uri": "https://localhost:8080/"
        },
        "id": "UZ3Qj3tUShLJ",
        "outputId": "c160e4f2-5fe9-4c23-d677-223fbe948f9a"
      },
      "execution_count": null,
      "outputs": [
        {
          "output_type": "stream",
          "name": "stdout",
          "text": [
            "tensor([[1., 0., 1., 0.],\n",
            "        [0., 2., 0., 2.],\n",
            "        [1., 1., 1., 1.]])\n"
          ]
        }
      ]
    },
    {
      "cell_type": "code",
      "source": [
        "w_key = [\n",
        "...   [0, 0, 1],\n",
        "...   [1, 1, 0],\n",
        "...   [0, 1, 0],\n",
        "...   [1, 1, 0],\n",
        "... ]\n",
        "w_query = [\n",
        "...   [1, 0, 1],\n",
        "...   [1, 0, 0],\n",
        "...   [0, 0, 1],\n",
        "...   [0, 1, 1],\n",
        "... ]\n",
        "w_value = [\n",
        "...   [0, 2, 0],\n",
        "...   [0, 3, 0],\n",
        "...   [1, 0, 3],\n",
        "...   [1, 1, 0],\n",
        "... ]\n",
        "w_key = torch.tensor(w_key, dtype=torch.float32)\n",
        "w_query = torch.tensor(w_query, dtype=torch.float32)\n",
        "w_value = torch.tensor(w_value, dtype=torch.float32)"
      ],
      "metadata": {
        "id": "dtJUOvM3SsIG"
      },
      "execution_count": null,
      "outputs": []
    },
    {
      "cell_type": "code",
      "source": [
        "print(w_key)"
      ],
      "metadata": {
        "colab": {
          "base_uri": "https://localhost:8080/"
        },
        "id": "on-Wj_JzS9_p",
        "outputId": "e9f8c68f-9a30-42ae-e73a-c98b1dd41815"
      },
      "execution_count": null,
      "outputs": [
        {
          "output_type": "stream",
          "name": "stdout",
          "text": [
            "tensor([[0., 0., 1.],\n",
            "        [1., 1., 0.],\n",
            "        [0., 1., 0.],\n",
            "        [1., 1., 0.]])\n"
          ]
        }
      ]
    },
    {
      "cell_type": "code",
      "source": [
        "keys = x @ w_key\n",
        "querys = x @ w_query\n",
        "values = x @ w_value\n"
      ],
      "metadata": {
        "id": "X3XKDiSKTG3k"
      },
      "execution_count": null,
      "outputs": []
    },
    {
      "cell_type": "code",
      "source": [
        "keys"
      ],
      "metadata": {
        "colab": {
          "base_uri": "https://localhost:8080/"
        },
        "id": "xt7X0FQdTWV0",
        "outputId": "94c088fc-dfe5-4fb3-a8d8-889131bcd730"
      },
      "execution_count": null,
      "outputs": [
        {
          "output_type": "execute_result",
          "data": {
            "text/plain": [
              "tensor([[0., 1., 1.],\n",
              "        [4., 4., 0.],\n",
              "        [2., 3., 1.]])"
            ]
          },
          "metadata": {},
          "execution_count": 10
        }
      ]
    },
    {
      "cell_type": "code",
      "source": [
        "attn_scores = querys @ keys.T"
      ],
      "metadata": {
        "id": "mPqsrZaBTfqR"
      },
      "execution_count": null,
      "outputs": []
    },
    {
      "cell_type": "code",
      "source": [
        "attn_scores"
      ],
      "metadata": {
        "colab": {
          "base_uri": "https://localhost:8080/"
        },
        "id": "-ZqNmb_rThRB",
        "outputId": "696a569e-2c3d-4de3-dfd9-bbc6e7d3ddae"
      },
      "execution_count": null,
      "outputs": [
        {
          "output_type": "execute_result",
          "data": {
            "text/plain": [
              "tensor([[ 2.,  4.,  4.],\n",
              "        [ 4., 16., 12.],\n",
              "        [ 4., 12., 10.]])"
            ]
          },
          "metadata": {},
          "execution_count": 12
        }
      ]
    },
    {
      "cell_type": "code",
      "source": [
        "from torch.nn.functional import softmax"
      ],
      "metadata": {
        "id": "nYqRXJHPT3u9"
      },
      "execution_count": null,
      "outputs": []
    },
    {
      "cell_type": "code",
      "source": [
        "attn_scores_softmax = softmax(attn_scores, dim=-1)"
      ],
      "metadata": {
        "id": "COui6KQmT6__"
      },
      "execution_count": null,
      "outputs": []
    },
    {
      "cell_type": "code",
      "source": [
        "attn_scores_softmax"
      ],
      "metadata": {
        "colab": {
          "base_uri": "https://localhost:8080/"
        },
        "id": "3ReWqjztUAQv",
        "outputId": "772a03e3-9516-483b-d13f-4c82843c9f09"
      },
      "execution_count": null,
      "outputs": [
        {
          "output_type": "execute_result",
          "data": {
            "text/plain": [
              "tensor([[6.3379e-02, 4.6831e-01, 4.6831e-01],\n",
              "        [6.0337e-06, 9.8201e-01, 1.7986e-02],\n",
              "        [2.9539e-04, 8.8054e-01, 1.1917e-01]])"
            ]
          },
          "metadata": {},
          "execution_count": 16
        }
      ]
    },
    {
      "cell_type": "code",
      "source": [
        "torch.round(torch.tensor(attn_scores_softmax), decimals=1)"
      ],
      "metadata": {
        "colab": {
          "base_uri": "https://localhost:8080/"
        },
        "id": "_AVYqE0EWAvU",
        "outputId": "c7f4d116-9049-4dc9-f80f-25f2354c0ac9"
      },
      "execution_count": null,
      "outputs": [
        {
          "output_type": "stream",
          "name": "stderr",
          "text": [
            "<ipython-input-30-41ddd033c448>:1: UserWarning: To copy construct from a tensor, it is recommended to use sourceTensor.clone().detach() or sourceTensor.clone().detach().requires_grad_(True), rather than torch.tensor(sourceTensor).\n",
            "  torch.round(torch.tensor(attn_scores_softmax), decimals=1)\n"
          ]
        },
        {
          "output_type": "execute_result",
          "data": {
            "text/plain": [
              "tensor([[0.0000, 0.5000, 0.5000],\n",
              "        [0.0000, 1.0000, 0.0000],\n",
              "        [0.0000, 0.9000, 0.1000]])"
            ]
          },
          "metadata": {},
          "execution_count": 30
        }
      ]
    },
    {
      "cell_type": "code",
      "source": [
        "weighted_values = values[:,None] * attn_scores_softmax.T[:,:,None]"
      ],
      "metadata": {
        "id": "A9cMBC5iWzpG"
      },
      "execution_count": null,
      "outputs": []
    },
    {
      "cell_type": "code",
      "source": [
        "weighted_values"
      ],
      "metadata": {
        "colab": {
          "base_uri": "https://localhost:8080/"
        },
        "id": "ivQM_m9jW5Dz",
        "outputId": "dd4def97-ab52-4b66-8b2a-989cb1c39df3"
      },
      "execution_count": null,
      "outputs": [
        {
          "output_type": "execute_result",
          "data": {
            "text/plain": [
              "tensor([[[0.0000, 0.0000, 0.0000],\n",
              "         [0.0000, 0.0000, 0.0000],\n",
              "         [0.0000, 0.0000, 0.0000]],\n",
              "\n",
              "        [[1.0000, 4.0000, 0.0000],\n",
              "         [2.0000, 8.0000, 0.0000],\n",
              "         [1.8000, 7.2000, 0.0000]],\n",
              "\n",
              "        [[1.0000, 3.0000, 1.5000],\n",
              "         [0.0000, 0.0000, 0.0000],\n",
              "         [0.2000, 0.6000, 0.3000]]])"
            ]
          },
          "metadata": {},
          "execution_count": 35
        }
      ]
    },
    {
      "cell_type": "code",
      "source": [
        "outputs = weighted_values.sum(dim=0)"
      ],
      "metadata": {
        "id": "CO2VAGbyXQuA"
      },
      "execution_count": null,
      "outputs": []
    },
    {
      "cell_type": "code",
      "source": [
        "outputs"
      ],
      "metadata": {
        "colab": {
          "base_uri": "https://localhost:8080/"
        },
        "id": "QbyRkw4bXSgC",
        "outputId": "a83b24df-c0df-41c9-da23-427d3a2da0bb"
      },
      "execution_count": null,
      "outputs": [
        {
          "output_type": "execute_result",
          "data": {
            "text/plain": [
              "tensor([[2.0000, 7.0000, 1.5000],\n",
              "        [2.0000, 8.0000, 0.0000],\n",
              "        [2.0000, 7.8000, 0.3000]])"
            ]
          },
          "metadata": {},
          "execution_count": 37
        }
      ]
    }
  ]
}